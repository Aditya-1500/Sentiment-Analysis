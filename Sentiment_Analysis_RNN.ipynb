{
 "cells": [
  {
   "cell_type": "markdown",
   "id": "varied-watts",
   "metadata": {},
   "source": [
    "# Sentiment Analysis using RNN"
   ]
  },
  {
   "cell_type": "markdown",
   "id": "sweet-marking",
   "metadata": {},
   "source": [
    "### Load in and visualize the data"
   ]
  },
  {
   "cell_type": "code",
   "execution_count": 1,
   "id": "imported-reduction",
   "metadata": {},
   "outputs": [],
   "source": [
    "import numpy as np\n",
    "with open('data/reviews.txt','r') as f:\n",
    "    reviews = f.read()\n",
    "with open('data/labels.txt','r') as f:\n",
    "    labels = f.read()"
   ]
  },
  {
   "cell_type": "code",
   "execution_count": 2,
   "id": "caring-radar",
   "metadata": {},
   "outputs": [
    {
     "name": "stdout",
     "output_type": "stream",
     "text": [
      "bromwell high is a cartoon comedy . it ran at the same time as some other programs about school life  such as  teachers  . my   years in the teaching profession lead me to believe that bromwell high  s satire is much closer to reality than is  teachers  . the scramble to survive financially  the insightful students who can see right through their pathetic teachers  pomp  the pettiness of the whole situation  all remind me of the schools i knew and their students . when i saw the episode in which a student repeatedly tried to burn down the school  i immediately recalled . . . . . . . . . at . . . . . . . . . . high . a classic line inspector i  m here to sack one of your teachers . student welcome to bromwell high . i expect that many adults of my age think that bromwell high is far fetched . what a pity that it isn  t   \n",
      "story of a man who has unnatural feelings for a pig . starts out with a opening scene that is a terrific example of absurd comedy . a formal orchestra audience is turned into an insane  violent mob by the crazy chantings of it  s singers . unfortunately it stays absurd the whole time with no general narrative eventually making it just too off putting . even those from the era should be turned off . the cryptic dialogue would make shakespeare seem easy to a third grader . on a technical level it  s better than you might think with some good cinematography by future great vilmos zsigmond . future stars sally kirkland and frederic forrest can be seen briefly .  \n",
      "homelessness  or houselessness as george carlin stated  has been an issue for years but never a plan to help those on the street that were once considered human who did everything from going to school  work  or vote for the matter . most people think of the homeless as just a lost cause while worrying about things such as racism  the war on iraq  pressuring kids to succeed  technology  the elections  inflation  or worrying if they  ll be next to end up on the streets .  br    br   but what if y\n",
      "positive\n",
      "negative\n",
      "positi\n"
     ]
    }
   ],
   "source": [
    "print(reviews[:2000])\n",
    "print(labels[:24])"
   ]
  },
  {
   "cell_type": "markdown",
   "id": "phantom-reply",
   "metadata": {},
   "source": [
    "## Data Pre-processing"
   ]
  },
  {
   "cell_type": "markdown",
   "id": "entire-model",
   "metadata": {},
   "source": [
    "Steps:\n",
    "- Get rid of periods and extraneous punctuation\n",
    "- Split the text into each review using '\\n' as delimiter\n",
    "- Combine all the reviews back together into one big string"
   ]
  },
  {
   "cell_type": "code",
   "execution_count": 3,
   "id": "informational-shelter",
   "metadata": {},
   "outputs": [
    {
     "name": "stdout",
     "output_type": "stream",
     "text": [
      "!\"#$%&'()*+,-./:;<=>?@[\\]^_`{|}~\n"
     ]
    }
   ],
   "source": [
    "#Removing the punctuation\n",
    "from string import punctuation\n",
    "\n",
    "print(punctuation)\n",
    "\n",
    "reviews = reviews.lower()    #Standardizing the text as lowercase\n",
    "all_text = ''.join([c for c in reviews if c not in punctuation])"
   ]
  },
  {
   "cell_type": "code",
   "execution_count": 4,
   "id": "correct-worst",
   "metadata": {},
   "outputs": [],
   "source": [
    "#Split by new-lines and spaces\n",
    "reviews_split = all_text.split(\"\\n\")\n",
    "all_text = ' '.join(reviews_split)\n",
    "\n",
    "#Create a list of words\n",
    "words = all_text.split()"
   ]
  },
  {
   "cell_type": "code",
   "execution_count": 5,
   "id": "nutritional-fairy",
   "metadata": {},
   "outputs": [
    {
     "name": "stdout",
     "output_type": "stream",
     "text": [
      "['bromwell', 'high', 'is', 'a', 'cartoon', 'comedy', 'it', 'ran', 'at', 'the', 'same', 'time', 'as', 'some', 'other', 'programs', 'about', 'school', 'life', 'such', 'as', 'teachers', 'my', 'years', 'in', 'the', 'teaching', 'profession', 'lead', 'me']\n"
     ]
    }
   ],
   "source": [
    "print(words[:30])"
   ]
  },
  {
   "cell_type": "markdown",
   "id": "fancy-identifier",
   "metadata": {},
   "source": [
    "### Encoding the words"
   ]
  },
  {
   "cell_type": "code",
   "execution_count": 6,
   "id": "offensive-latin",
   "metadata": {},
   "outputs": [],
   "source": [
    "# Creating a dictionary to encode words in numbers starting from 1\n",
    "from collections import Counter\n",
    "\n",
    "#Building a dictionary that maps words to integers\n",
    "counts = Counter(words)\n",
    "vocab = sorted(counts,key=counts.get,reverse=True)\n",
    "vocab_to_int = {word:ii for ii,word in enumerate(vocab,1)}\n",
    "\n",
    "#Using the dict to tokenize each review in reviews_split\n",
    "reviews_ints = []\n",
    "for r in reviews_split:\n",
    "    reviews_ints.append([vocab_to_int[word] for word in r.split()])"
   ]
  },
  {
   "cell_type": "code",
   "execution_count": 7,
   "id": "abstract-mozambique",
   "metadata": {},
   "outputs": [
    {
     "name": "stdout",
     "output_type": "stream",
     "text": [
      "Unique words: 74072\n",
      "\n",
      "Tokenized Review: \n",
      " [[21025, 308, 6, 3, 1050, 207, 8, 2138, 32, 1, 171, 57, 15, 49, 81, 5785, 44, 382, 110, 140, 15, 5194, 60, 154, 9, 1, 4975, 5852, 475, 71, 5, 260, 12, 21025, 308, 13, 1978, 6, 74, 2395, 5, 613, 73, 6, 5194, 1, 24103, 5, 1983, 10166, 1, 5786, 1499, 36, 51, 66, 204, 145, 67, 1199, 5194, 19869, 1, 37442, 4, 1, 221, 883, 31, 2988, 71, 4, 1, 5787, 10, 686, 2, 67, 1499, 54, 10, 216, 1, 383, 9, 62, 3, 1406, 3686, 783, 5, 3483, 180, 1, 382, 10, 1212, 13583, 32, 308, 3, 349, 341, 2913, 10, 143, 127, 5, 7690, 30, 4, 129, 5194, 1406, 2326, 5, 21025, 308, 10, 528, 12, 109, 1448, 4, 60, 543, 102, 12, 21025, 308, 6, 227, 4146, 48, 3, 2211, 12, 8, 215, 23]]\n"
     ]
    }
   ],
   "source": [
    "#Testing the above code\n",
    "\n",
    "#Stats about vocabulary\n",
    "print(\"Unique words:\",len(vocab_to_int))\n",
    "\n",
    "#Print tokens in first review\n",
    "print(\"\\nTokenized Review: \\n\",reviews_ints[:1])"
   ]
  },
  {
   "cell_type": "markdown",
   "id": "consecutive-carry",
   "metadata": {},
   "source": [
    "### Encoding the labels"
   ]
  },
  {
   "cell_type": "code",
   "execution_count": 8,
   "id": "opposite-brazilian",
   "metadata": {},
   "outputs": [
    {
     "name": "stdout",
     "output_type": "stream",
     "text": [
      "[1 0 1]\n"
     ]
    }
   ],
   "source": [
    "#Encoding positive as 1 and negative as 0\n",
    "encoded_labels = np.array([1 if label==\"positive\" else 0 for label in labels.split(\"\\n\")])\n",
    "# print(len(encoded_labels))\n",
    "print(encoded_labels[:3])"
   ]
  },
  {
   "cell_type": "markdown",
   "id": "loving-attraction",
   "metadata": {},
   "source": [
    "### Removing outliers\n",
    "Our network will expect a standard input text size, and hence we'll shape our reviews into a specific length. The approach taken is as follows:\n",
    "- Getting rid of extremely long or short reviews - The outliers\n",
    "- Padding/Truncating the remaining data so that we have reviews of the same length"
   ]
  },
  {
   "cell_type": "code",
   "execution_count": 9,
   "id": "smoking-style",
   "metadata": {},
   "outputs": [
    {
     "name": "stdout",
     "output_type": "stream",
     "text": [
      "Zero-length reviews: 1\n",
      "Maximum length review: 2514\n"
     ]
    }
   ],
   "source": [
    "#Outlier review stats\n",
    "review_lens = Counter([len(x) for x in reviews_ints])\n",
    "print(\"Zero-length reviews: {}\".format(review_lens[0]))\n",
    "print(\"Maximum length review: {}\".format(max(review_lens)))"
   ]
  },
  {
   "cell_type": "code",
   "execution_count": 10,
   "id": "emerging-suspension",
   "metadata": {},
   "outputs": [
    {
     "name": "stdout",
     "output_type": "stream",
     "text": [
      "No. of reviews before removing outliers: 25001\n",
      "No. of reviews after removing outliers: 25000\n"
     ]
    }
   ],
   "source": [
    "#Removing zero-length reviews\n",
    "print(\"No. of reviews before removing outliers: {}\".format(len(reviews_ints)))\n",
    "\n",
    "non_zero_idx = [ii for ii,review in enumerate(reviews_ints) if len(review) != 0]\n",
    "\n",
    "reviews_ints = [ reviews_ints[ii] for ii in non_zero_idx ]\n",
    "encoded_labels = [ encoded_labels[ii] for ii in non_zero_idx ]\n",
    "\n",
    "print(\"No. of reviews after removing outliers: {}\".format(len(reviews_ints)))"
   ]
  },
  {
   "cell_type": "markdown",
   "id": "rolled-bruce",
   "metadata": {},
   "source": [
    "### Padding sequences\n",
    "To deal with both short and long reviews, we'll pad or truncate all our reviews. For reviews shorter than some seq_length, we'll pad with 0s. For reviews longer than seq_length, we can truncate them to the first seq_length words."
   ]
  },
  {
   "cell_type": "code",
   "execution_count": 11,
   "id": "suburban-selection",
   "metadata": {},
   "outputs": [],
   "source": [
    "def pad_features(reviews_ints, seq_length):\n",
    "    '''\n",
    "    Returns the features of reviews_ints, where each review is padded with 0's or \n",
    "    truncated to input seq_length\n",
    "    '''\n",
    "    features = []\n",
    "    for review in reviews_ints:\n",
    "        if len(review) < seq_length:\n",
    "            features.append([0]*(seq_length-len(review))+review)\n",
    "        else:\n",
    "            features.append(review[:seq_length])\n",
    "    return np.array(features)"
   ]
  },
  {
   "cell_type": "code",
   "execution_count": 12,
   "id": "registered-lighter",
   "metadata": {},
   "outputs": [
    {
     "name": "stdout",
     "output_type": "stream",
     "text": [
      "[[    0     0     0     0     0     0     0     0     0     0]\n",
      " [    0     0     0     0     0     0     0     0     0     0]\n",
      " [22382    42 46418    15   706 17139  3389    47    77    35]\n",
      " [ 4505   505    15     3  3342   162  8312  1652     6  4819]\n",
      " [    0     0     0     0     0     0     0     0     0     0]\n",
      " [    0     0     0     0     0     0     0     0     0     0]\n",
      " [    0     0     0     0     0     0     0     0     0     0]\n",
      " [    0     0     0     0     0     0     0     0     0     0]\n",
      " [    0     0     0     0     0     0     0     0     0     0]\n",
      " [   54    10    14   116    60   798   552    71   364     5]\n",
      " [    0     0     0     0     0     0     0     0     0     0]\n",
      " [    0     0     0     0     0     0     0     0     0     0]\n",
      " [    0     0     0     0     0     0     0     0     0     0]\n",
      " [    1   330   578    34     3   162   748  2731     9   325]\n",
      " [    9    11 10171  5305  1946   689   444    22   280   673]\n",
      " [    0     0     0     0     0     0     0     0     0     0]\n",
      " [    1   307 10399  2069  1565  6202  6528  3288 17946 10628]\n",
      " [    0     0     0     0     0     0     0     0     0     0]\n",
      " [   21   122  2069  1565   515  8181    88     6  1325  1182]\n",
      " [    1    20     6    76    40     6    58    81    95     5]\n",
      " [   54    10    84   329 26230 46427    63    10    14   614]\n",
      " [   11    20     6    30  1436 32317  3769   690 15100     6]\n",
      " [    0     0     0     0     0     0     0     0     0     0]\n",
      " [    0     0     0     0     0     0     0     0     0     0]\n",
      " [   40    26   109 17952  1422     9     1   327     4   125]\n",
      " [    0     0     0     0     0     0     0     0     0     0]\n",
      " [   10   499     1   307 10399    55    74     8    13    30]\n",
      " [    0     0     0     0     0     0     0     0     0     0]\n",
      " [    0     0     0     0     0     0     0     0     0     0]\n",
      " [    0     0     0     0     0     0     0     0     0     0]]\n"
     ]
    }
   ],
   "source": [
    "#Testing implementation of above function\n",
    "\n",
    "seq_length = 200\n",
    "features = pad_features(reviews_ints,seq_length)\n",
    "\n",
    "assert len(features) == len(reviews_ints)    #Features should have same number of rows as reviews_ints\n",
    "assert len(features[0]) == seq_length        #Each feature row should contain 'seq_length' values\n",
    "\n",
    "print(features[:30,:10])"
   ]
  },
  {
   "cell_type": "markdown",
   "id": "identified-gross",
   "metadata": {},
   "source": [
    "## Training, Validation, Test"
   ]
  },
  {
   "cell_type": "code",
   "execution_count": 13,
   "id": "civil-sword",
   "metadata": {},
   "outputs": [
    {
     "name": "stdout",
     "output_type": "stream",
     "text": [
      "\t\t\tFeature Shapes:\n",
      "Train set: \t\t(20000, 200) \n",
      "Validation set: \t(2500, 200) \n",
      "Test set: \t\t(2500, 200)\n"
     ]
    }
   ],
   "source": [
    "split_frac = 0.8\n",
    "\n",
    "#Splitting data into training, validation and test sets\n",
    "split_idx = int(len(features)*split_frac)\n",
    "\n",
    "#Training set\n",
    "train_x, remaining_x = features[:split_idx], features[split_idx:]\n",
    "train_y, remaining_y = encoded_labels[:split_idx], encoded_labels[split_idx:]\n",
    "\n",
    "#Validation and test sets\n",
    "remaining_split_idx = int(len(remaining_x)*0.5)\n",
    "val_x, test_x = remaining_x[:remaining_split_idx], remaining_x[remaining_split_idx:]\n",
    "val_y, test_y = remaining_y[:remaining_split_idx], remaining_y[remaining_split_idx:]\n",
    "\n",
    "print(\"\\t\\t\\tFeature Shapes:\")\n",
    "print(\"Train set: \\t\\t{}\".format(train_x.shape), \n",
    "      \"\\nValidation set: \\t{}\".format(val_x.shape),\n",
    "      \"\\nTest set: \\t\\t{}\".format(test_x.shape))"
   ]
  },
  {
   "cell_type": "markdown",
   "id": "healthy-corporation",
   "metadata": {},
   "source": [
    "## Dataloaders and Batching the data"
   ]
  },
  {
   "cell_type": "code",
   "execution_count": 14,
   "id": "addressed-explanation",
   "metadata": {},
   "outputs": [],
   "source": [
    "import torch\n",
    "from torch.utils.data import TensorDataset, DataLoader\n",
    "\n",
    "#Creating tensor datasets\n",
    "train_data = TensorDataset(torch.from_numpy(np.array(train_x)), torch.from_numpy(np.array(train_y)))\n",
    "test_data = TensorDataset(torch.from_numpy(np.array(test_x)), torch.from_numpy(np.array(test_y)))\n",
    "val_data = TensorDataset(torch.from_numpy(np.array(val_x)), torch.from_numpy(np.array(val_y)))\n",
    "\n",
    "batch_size = 50\n",
    "\n",
    "#Dataloaders\n",
    "train_loader = DataLoader(train_data, shuffle=True, batch_size=batch_size)\n",
    "test_loader = DataLoader(test_data, shuffle=True, batch_size=batch_size)\n",
    "val_loader = DataLoader(val_data, shuffle=True, batch_size=batch_size)"
   ]
  },
  {
   "cell_type": "code",
   "execution_count": 15,
   "id": "efficient-estonia",
   "metadata": {},
   "outputs": [
    {
     "name": "stdout",
     "output_type": "stream",
     "text": [
      "Sample input size:  torch.Size([50, 200])\n",
      "Sample input: \n",
      " tensor([[  54,    8,  379,  ...,   37, 2559,   26],\n",
      "        [1281,   10,  329,  ...,  447,    4,    1],\n",
      "        [   0,    0,    0,  ...,  825,    6,  470],\n",
      "        ...,\n",
      "        [  11,    6,    3,  ..., 1939,   26,  551],\n",
      "        [   0,    0,    0,  ...,   39,   11,   20],\n",
      "        [   0,    0,    0,  ...,    5, 2260,   56]], dtype=torch.int32)\n",
      "\n",
      "Sample label size:  torch.Size([50])\n",
      "Sample label: \n",
      " tensor([1, 0, 1, 1, 0, 0, 1, 1, 1, 0, 1, 1, 1, 1, 0, 1, 0, 1, 1, 0, 0, 1, 0, 0,\n",
      "        1, 0, 1, 0, 0, 1, 0, 0, 0, 0, 0, 0, 1, 1, 1, 0, 0, 0, 0, 1, 1, 0, 1, 1,\n",
      "        1, 0], dtype=torch.int32)\n"
     ]
    }
   ],
   "source": [
    "#Obtain one batch of training data\n",
    "\n",
    "dataiter = iter(train_loader)\n",
    "sample_x, sample_y = dataiter.next()\n",
    "\n",
    "print('Sample input size: ', sample_x.size()) # batch_size, seq_length\n",
    "print('Sample input: \\n', sample_x)\n",
    "print()\n",
    "print('Sample label size: ', sample_y.size()) # batch_size\n",
    "print('Sample label: \\n', sample_y)"
   ]
  },
  {
   "cell_type": "markdown",
   "id": "north-plate",
   "metadata": {},
   "source": [
    "## Defining the model\n",
    "\n",
    "We will define the model with the following layers:\n",
    "- An **embedding layer** that converts our work tokens (integers) into embeddings of a specific size.\n",
    "- An **LSTM layer** defined by a hidden_state size and number of layers\n",
    "- A **fully-connected output layer** that maps the output of LSTM layer outputs to a desired output size\n",
    "- A **sigmoid activation layer** which turns all outputs into a value 0-1."
   ]
  },
  {
   "cell_type": "code",
   "execution_count": 16,
   "id": "great-essex",
   "metadata": {},
   "outputs": [
    {
     "name": "stdout",
     "output_type": "stream",
     "text": [
      "GPU Available..Training on GPU !\n"
     ]
    }
   ],
   "source": [
    "#Checking if GPU is available or not\n",
    "train_on_gpu = torch.cuda.is_available()\n",
    "\n",
    "if train_on_gpu:\n",
    "    print(\"GPU Available..Training on GPU !\")\n",
    "else:\n",
    "    print(\"GPU not available.. Training on CPU !\")"
   ]
  },
  {
   "cell_type": "code",
   "execution_count": 17,
   "id": "egyptian-oliver",
   "metadata": {},
   "outputs": [],
   "source": [
    "import torch.nn as nn\n",
    "\n",
    "class SentimentRNN(nn.Module):\n",
    "    \"\"\"The RNN Model that will be used to perform Sentiment Analysis\"\"\"\n",
    "    \n",
    "    def __init__(self, vocab_size, output_size, embedding_dim, hidden_dim, n_layers, drop_prob = 0.5):\n",
    "        \"\"\"Initialize the model by setting up the layers\"\"\"\n",
    "        super(SentimentRNN,self).__init__()\n",
    "        \n",
    "        self.output_size = output_size\n",
    "        self.n_layers = n_layers\n",
    "        self.hidden_dim = hidden_dim\n",
    "        \n",
    "        #Defining the layers\n",
    "        self.embedding = nn.Embedding(vocab_size,embedding_dim)\n",
    "        self.lstm = nn.LSTM(embedding_dim, self.hidden_dim, self.n_layers, dropout=drop_prob, batch_first=True)\n",
    "        self.dropout = nn.Dropout(0.3)\n",
    "        self.fc = nn.Linear(hidden_dim,output_size)\n",
    "        self.sigmoid = nn.Sigmoid()\n",
    "    \n",
    "    def forward(self, x, hidden):\n",
    "        \"\"\"Perform a forward pass of our model on some input and hidden state\"\"\"\n",
    "        \n",
    "        batch_size = x.size(0)\n",
    "        \n",
    "        \n",
    "        #Embeddings and LSTM Out\n",
    "        x = x.long()\n",
    "        embeds = self.embedding(x)\n",
    "        lstm_out, hidden = self.lstm(embeds, hidden)\n",
    "        \n",
    "        #Stacking up LSTM Outputs\n",
    "        lstm_out = lstm_out.contiguous().view(-1,self.hidden_dim)\n",
    "        \n",
    "        #Dropout and Fully-connected layer\n",
    "        out = self.dropout(lstm_out)\n",
    "        out = self.fc(out)\n",
    "        \n",
    "        #Sigmoid output\n",
    "        sig_out = self.sigmoid(out)\n",
    "        \n",
    "        #Reshaping to be batch-size first\n",
    "        sig_out = sig_out.view(batch_size,-1)\n",
    "        sig_out = sig_out[:,-1]\n",
    "        \n",
    "        return sig_out, hidden\n",
    "    \n",
    "    def init_hidden(self, batch_size):\n",
    "        \"\"\"Initializes hidden state\"\"\"\n",
    "        weight = next(self.parameters()).data\n",
    "        \n",
    "        if train_on_gpu:\n",
    "            hidden = (weight.new(self.n_layers,batch_size,self.hidden_dim).zero_().cuda(),\n",
    "                      weight.new(self.n_layers,batch_size,self.hidden_dim).zero_().cuda())\n",
    "        else:\n",
    "            hidden = (weight.new(self.n_layers,batch_size,self.hidden_dim).zero_(),\n",
    "                      weight.new(self.n_layers,batch_size,self.hidden_dim).zero_())\n",
    "            \n",
    "        return hidden"
   ]
  },
  {
   "cell_type": "markdown",
   "id": "under-review",
   "metadata": {},
   "source": [
    "### Instantiating the network"
   ]
  },
  {
   "cell_type": "code",
   "execution_count": 18,
   "id": "tired-eugene",
   "metadata": {},
   "outputs": [
    {
     "name": "stdout",
     "output_type": "stream",
     "text": [
      "SentimentRNN(\n",
      "  (embedding): Embedding(74073, 400)\n",
      "  (lstm): LSTM(400, 256, num_layers=2, batch_first=True, dropout=0.5)\n",
      "  (dropout): Dropout(p=0.3, inplace=False)\n",
      "  (fc): Linear(in_features=256, out_features=1, bias=True)\n",
      "  (sigmoid): Sigmoid()\n",
      ")\n"
     ]
    }
   ],
   "source": [
    "#Instantiate the hyperparameters\n",
    "vocab_size = len(vocab_to_int) + 1\n",
    "output_size = 1\n",
    "embedding_dim = 400\n",
    "hidden_dim = 256\n",
    "n_layers = 2\n",
    "\n",
    "net = SentimentRNN(vocab_size=vocab_size, output_size=output_size, embedding_dim=embedding_dim, \n",
    "                   hidden_dim=hidden_dim, n_layers=n_layers)\n",
    "\n",
    "print(net)"
   ]
  },
  {
   "cell_type": "markdown",
   "id": "bulgarian-enough",
   "metadata": {},
   "source": [
    "## Training the network"
   ]
  },
  {
   "cell_type": "code",
   "execution_count": 19,
   "id": "legal-japan",
   "metadata": {},
   "outputs": [],
   "source": [
    "#Loss and optimization functions\n",
    "\n",
    "criterion = nn.BCELoss()\n",
    "optimizer = torch.optim.Adam(net.parameters(),lr = 0.001)\n",
    "\n",
    "torch.backends.cudnn.enabled = False"
   ]
  },
  {
   "cell_type": "code",
   "execution_count": 20,
   "id": "trying-tractor",
   "metadata": {},
   "outputs": [
    {
     "name": "stdout",
     "output_type": "stream",
     "text": [
      "Epoch: 1/4... Step: 100... Loss: 0.687573... Val Loss: 0.640764\n",
      "Epoch: 1/4... Step: 200... Loss: 0.693543... Val Loss: 0.678182\n",
      "Epoch: 1/4... Step: 300... Loss: 0.584024... Val Loss: 0.600235\n",
      "Epoch: 1/4... Step: 400... Loss: 0.648290... Val Loss: 0.574703\n",
      "Epoch: 2/4... Step: 500... Loss: 0.644994... Val Loss: 0.626900\n",
      "Epoch: 2/4... Step: 600... Loss: 0.547131... Val Loss: 0.561253\n",
      "Epoch: 2/4... Step: 700... Loss: 0.490149... Val Loss: 0.523221\n",
      "Epoch: 2/4... Step: 800... Loss: 0.376533... Val Loss: 0.506046\n",
      "Epoch: 3/4... Step: 900... Loss: 0.299006... Val Loss: 0.546762\n",
      "Epoch: 3/4... Step: 1000... Loss: 0.308804... Val Loss: 0.455720\n",
      "Epoch: 3/4... Step: 1100... Loss: 0.323383... Val Loss: 0.499651\n",
      "Epoch: 3/4... Step: 1200... Loss: 0.345807... Val Loss: 0.469713\n",
      "Epoch: 4/4... Step: 1300... Loss: 0.175339... Val Loss: 0.490351\n",
      "Epoch: 4/4... Step: 1400... Loss: 0.252126... Val Loss: 0.443279\n",
      "Epoch: 4/4... Step: 1500... Loss: 0.331545... Val Loss: 0.437071\n",
      "Epoch: 4/4... Step: 1600... Loss: 0.281544... Val Loss: 0.462251\n"
     ]
    }
   ],
   "source": [
    "#Training params\n",
    "\n",
    "epochs = 4\n",
    "counter = 0\n",
    "print_every = 100\n",
    "clip = 5  #for gradient clipping\n",
    "\n",
    "if train_on_gpu:\n",
    "    net.cuda()\n",
    "\n",
    "net.train()\n",
    "#train for some number of epochs\n",
    "for e in range(epochs):\n",
    "    #initialize hidden state\n",
    "    h = net.init_hidden(batch_size)\n",
    "    \n",
    "    #batch-loop\n",
    "    for inputs, labels in train_loader:\n",
    "        counter += 1\n",
    "        \n",
    "        if train_on_gpu:\n",
    "            inputs, labels = inputs.cuda(), labels.cuda()\n",
    "        \n",
    "        #Creating new variables for hidden state \n",
    "        h = tuple([each.data for each in h])\n",
    "        \n",
    "        net.zero_grad()\n",
    "        \n",
    "        #Get output from the model\n",
    "        output, h = net(inputs, h)\n",
    "        \n",
    "        loss = criterion(output.squeeze(), labels.float())\n",
    "        loss.backward()\n",
    "        \n",
    "        nn.utils.clip_grad_norm_(net.parameters(), clip)\n",
    "        optimizer.step()\n",
    "        \n",
    "        if counter%print_every == 0:\n",
    "            #get validation loss\n",
    "            val_h = net.init_hidden(batch_size)\n",
    "            net.eval()\n",
    "            val_losses = []\n",
    "            for inputs, labels in val_loader:\n",
    "                val_h = tuple([each.data for each in val_h])\n",
    "                \n",
    "                if train_on_gpu:\n",
    "                    inputs, labels = inputs.cuda(), labels.cuda()\n",
    "                    \n",
    "                output_val, val_h = net(inputs, val_h)\n",
    "                val_loss = criterion(output_val.squeeze(), labels.float())\n",
    "                \n",
    "                val_losses.append(val_loss.item())\n",
    "            \n",
    "            net.train()\n",
    "            print(\"Epoch: {}/{}...\".format(e+1, epochs),\n",
    "                  \"Step: {}...\".format(counter),\n",
    "                  \"Loss: {:.6f}...\".format(loss.item()),\n",
    "                  \"Val Loss: {:.6f}\".format(np.mean(val_losses)))        "
   ]
  },
  {
   "cell_type": "markdown",
   "id": "prostate-vessel",
   "metadata": {},
   "source": [
    "## Testing the trained model"
   ]
  },
  {
   "cell_type": "code",
   "execution_count": 22,
   "id": "disturbed-theta",
   "metadata": {},
   "outputs": [
    {
     "name": "stdout",
     "output_type": "stream",
     "text": [
      "Test loss: 0.454\n",
      "Test accuracy: 0.810\n"
     ]
    }
   ],
   "source": [
    "# Get test data loss and accuracy\n",
    "\n",
    "test_losses = []\n",
    "num_correct = 0\n",
    "\n",
    "h = net.init_hidden(batch_size)\n",
    "\n",
    "net.eval()\n",
    "\n",
    "for inputs, labels in test_loader:\n",
    "    \n",
    "    h = tuple([each.data for each in h])\n",
    "    \n",
    "    if train_on_gpu:\n",
    "        inputs, labels = inputs.cuda(), labels.cuda()\n",
    "        \n",
    "    output, h = net(inputs, h)\n",
    "    \n",
    "    #Calculate loss\n",
    "    test_loss = criterion(output.squeeze(), labels.float())\n",
    "    test_losses.append(test_loss.item())\n",
    "    \n",
    "    pred = torch.round(output.squeeze())\n",
    "    \n",
    "    correct_tensor = pred.eq(labels.float().view_as(pred))\n",
    "    correct = np.squeeze(correct_tensor.numpy()) if not train_on_gpu else np.squeeze(correct_tensor.cpu().numpy())\n",
    "    num_correct += np.sum(correct)\n",
    "    \n",
    "# -- stats! -- ##\n",
    "# avg test loss\n",
    "print(\"Test loss: {:.3f}\".format(np.mean(test_losses)))\n",
    "\n",
    "# accuracy over all test data\n",
    "test_acc = num_correct/len(test_loader.dataset)\n",
    "print(\"Test accuracy: {:.3f}\".format(test_acc))"
   ]
  },
  {
   "cell_type": "markdown",
   "id": "august-ordinary",
   "metadata": {},
   "source": [
    "### Inference on a test review"
   ]
  },
  {
   "cell_type": "code",
   "execution_count": 24,
   "id": "adult-airplane",
   "metadata": {},
   "outputs": [],
   "source": [
    "# negative test review\n",
    "test_review_neg = 'The worst movie I have seen; acting was terrible and I want my money back. This movie had bad acting and the dialogue was slow.'"
   ]
  },
  {
   "cell_type": "code",
   "execution_count": 25,
   "id": "parental-circulation",
   "metadata": {},
   "outputs": [
    {
     "name": "stdout",
     "output_type": "stream",
     "text": [
      "[[1, 247, 18, 10, 28, 108, 113, 14, 388, 2, 10, 181, 60, 273, 144, 11, 18, 68, 76, 113, 2, 1, 410, 14, 539]]\n"
     ]
    }
   ],
   "source": [
    "def tokenize_review(test_review):\n",
    "    test_review = test_review.lower()\n",
    "    \n",
    "    #Getting rid of punctuation\n",
    "    test_text = ''.join([c for c in test_review if c not in punctuation])\n",
    "    \n",
    "    #Splitting by spaces\n",
    "    test_words = test_text.split(\" \")\n",
    "    \n",
    "    #Tokens\n",
    "    test_ints = []\n",
    "    test_ints.append([vocab_to_int[word] for word in test_words])\n",
    "    \n",
    "    return test_ints\n",
    "\n",
    "#Testing the above function\n",
    "test_ints = tokenize_review(test_review_neg)\n",
    "print(test_ints)"
   ]
  },
  {
   "cell_type": "code",
   "execution_count": 26,
   "id": "bearing-muslim",
   "metadata": {},
   "outputs": [
    {
     "name": "stdout",
     "output_type": "stream",
     "text": [
      "[[  0   0   0   0   0   0   0   0   0   0   0   0   0   0   0   0   0   0\n",
      "    0   0   0   0   0   0   0   0   0   0   0   0   0   0   0   0   0   0\n",
      "    0   0   0   0   0   0   0   0   0   0   0   0   0   0   0   0   0   0\n",
      "    0   0   0   0   0   0   0   0   0   0   0   0   0   0   0   0   0   0\n",
      "    0   0   0   0   0   0   0   0   0   0   0   0   0   0   0   0   0   0\n",
      "    0   0   0   0   0   0   0   0   0   0   0   0   0   0   0   0   0   0\n",
      "    0   0   0   0   0   0   0   0   0   0   0   0   0   0   0   0   0   0\n",
      "    0   0   0   0   0   0   0   0   0   0   0   0   0   0   0   0   0   0\n",
      "    0   0   0   0   0   0   0   0   0   0   0   0   0   0   0   0   0   0\n",
      "    0   0   0   0   0   0   0   0   0   0   0   0   0   1 247  18  10  28\n",
      "  108 113  14 388   2  10 181  60 273 144  11  18  68  76 113   2   1 410\n",
      "   14 539]]\n"
     ]
    }
   ],
   "source": [
    "#Test sequence padding\n",
    "seq_length = 200\n",
    "features = pad_features(test_ints, seq_length)\n",
    "print(features)"
   ]
  },
  {
   "cell_type": "code",
   "execution_count": 27,
   "id": "bearing-panic",
   "metadata": {},
   "outputs": [
    {
     "name": "stdout",
     "output_type": "stream",
     "text": [
      "torch.Size([1, 200])\n"
     ]
    }
   ],
   "source": [
    "#Test conversion to tensor and passing into model\n",
    "feature_tensor = torch.from_numpy(features)\n",
    "print(feature_tensor.size())"
   ]
  },
  {
   "cell_type": "code",
   "execution_count": 28,
   "id": "underlying-stomach",
   "metadata": {},
   "outputs": [],
   "source": [
    "def predict(net, test_review, sequence_length=200):\n",
    "    \n",
    "    net.eval()\n",
    "    \n",
    "    #Tokenize review\n",
    "    test_ints = tokenize_review(test_review)\n",
    "    \n",
    "    #Pad tokenized sequence\n",
    "    seq_length = sequence_length\n",
    "    features = pad_features(test_ints, seq_length)\n",
    "    \n",
    "    #Conversion to tensor\n",
    "    feature_tensor = torch.from_numpy(features)\n",
    "    \n",
    "    batch_size = feature_tensor.size(0)\n",
    "    \n",
    "    #Initialize hidden state\n",
    "    h = net.init_hidden(batch_size)\n",
    "    \n",
    "    if train_on_gpu:\n",
    "        feature_tensor = feature_tensor.cuda()\n",
    "        \n",
    "    #Get output from the model\n",
    "    output, h = net(feature_tensor, h)\n",
    "    pred = torch.round(output.squeeze())\n",
    "    print('Prediction value, pre-rounding: {:.6f}'.format(output.item()))\n",
    "    \n",
    "    #Print custom response\n",
    "    if pred.item() == 1:\n",
    "        print(\"Positive review detected...\")\n",
    "    else:\n",
    "        print(\"Negative review detected...\")\n",
    "        \n",
    "    "
   ]
  },
  {
   "cell_type": "code",
   "execution_count": 29,
   "id": "typical-stupid",
   "metadata": {},
   "outputs": [],
   "source": [
    "# positive test review\n",
    "test_review_pos = 'This movie had the best acting and the dialogue was so good. I loved it.'"
   ]
  },
  {
   "cell_type": "code",
   "execution_count": 30,
   "id": "tutorial-emphasis",
   "metadata": {},
   "outputs": [
    {
     "name": "stdout",
     "output_type": "stream",
     "text": [
      "Prediction value, pre-rounding: 0.006548\n",
      "Negative review detected...\n"
     ]
    }
   ],
   "source": [
    "# call function\n",
    "seq_length=200\n",
    "\n",
    "predict(net, test_review_neg, seq_length)"
   ]
  },
  {
   "cell_type": "code",
   "execution_count": 31,
   "id": "legendary-filename",
   "metadata": {},
   "outputs": [
    {
     "name": "stdout",
     "output_type": "stream",
     "text": [
      "Prediction value, pre-rounding: 0.990201\n",
      "Positive review detected...\n"
     ]
    }
   ],
   "source": [
    "# call function\n",
    "seq_length=200\n",
    "\n",
    "predict(net, test_review_pos, seq_length)"
   ]
  },
  {
   "cell_type": "markdown",
   "id": "prerequisite-ideal",
   "metadata": {},
   "source": [
    "# END OF NOTEBOOK"
   ]
  }
 ],
 "metadata": {
  "kernelspec": {
   "display_name": "Python 3",
   "language": "python",
   "name": "python3"
  },
  "language_info": {
   "codemirror_mode": {
    "name": "ipython",
    "version": 3
   },
   "file_extension": ".py",
   "mimetype": "text/x-python",
   "name": "python",
   "nbconvert_exporter": "python",
   "pygments_lexer": "ipython3",
   "version": "3.8.5"
  }
 },
 "nbformat": 4,
 "nbformat_minor": 5
}
